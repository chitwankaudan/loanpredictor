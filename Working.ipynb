{
 "cells": [
  {
   "cell_type": "code",
   "execution_count": 11,
   "metadata": {
    "collapsed": true
   },
   "outputs": [],
   "source": [
    "import os\n",
    "import settings\n",
    "import datetime\n",
    "import pandas as pd\n",
    "import numpy as np"
   ]
  },
  {
   "cell_type": "code",
   "execution_count": null,
   "metadata": {
    "collapsed": true
   },
   "outputs": [],
   "source": []
  },
  {
   "cell_type": "code",
   "execution_count": 8,
   "metadata": {},
   "outputs": [
    {
     "name": "stderr",
     "output_type": "stream",
     "text": [
      "/Users/chitwan/anaconda/lib/python3.6/site-packages/IPython/core/interactiveshell.py:2717: DtypeWarning: Columns (0,19) have mixed types. Specify dtype option on import or set low_memory=False.\n",
      "  interactivity=interactivity, compiler=compiler, result=result)\n"
     ]
    }
   ],
   "source": [
    "df = pd.read_csv(\"data/LoanStats_2016Q1.csv\", header = 1, )"
   ]
  },
  {
   "cell_type": "code",
   "execution_count": 9,
   "metadata": {},
   "outputs": [
    {
     "data": {
      "text/html": [
       "<div>\n",
       "<style>\n",
       "    .dataframe thead tr:only-child th {\n",
       "        text-align: right;\n",
       "    }\n",
       "\n",
       "    .dataframe thead th {\n",
       "        text-align: left;\n",
       "    }\n",
       "\n",
       "    .dataframe tbody tr th {\n",
       "        vertical-align: top;\n",
       "    }\n",
       "</style>\n",
       "<table border=\"1\" class=\"dataframe\">\n",
       "  <thead>\n",
       "    <tr style=\"text-align: right;\">\n",
       "      <th></th>\n",
       "      <th>member_id</th>\n",
       "      <th>loan_amnt</th>\n",
       "      <th>funded_amnt</th>\n",
       "      <th>funded_amnt_inv</th>\n",
       "      <th>installment</th>\n",
       "      <th>annual_inc</th>\n",
       "      <th>url</th>\n",
       "      <th>dti</th>\n",
       "      <th>delinq_2yrs</th>\n",
       "      <th>inq_last_6mths</th>\n",
       "      <th>...</th>\n",
       "      <th>sec_app_earliest_cr_line</th>\n",
       "      <th>sec_app_inq_last_6mths</th>\n",
       "      <th>sec_app_mort_acc</th>\n",
       "      <th>sec_app_open_acc</th>\n",
       "      <th>sec_app_revol_util</th>\n",
       "      <th>sec_app_open_il_6m</th>\n",
       "      <th>sec_app_num_rev_accts</th>\n",
       "      <th>sec_app_chargeoff_within_12_mths</th>\n",
       "      <th>sec_app_collections_12_mths_ex_med</th>\n",
       "      <th>sec_app_mths_since_last_major_derog</th>\n",
       "    </tr>\n",
       "  </thead>\n",
       "  <tbody>\n",
       "    <tr>\n",
       "      <th>count</th>\n",
       "      <td>0.0</td>\n",
       "      <td>133887.000000</td>\n",
       "      <td>133887.000000</td>\n",
       "      <td>133887.000000</td>\n",
       "      <td>133887.000000</td>\n",
       "      <td>1.338870e+05</td>\n",
       "      <td>0.0</td>\n",
       "      <td>133887.000000</td>\n",
       "      <td>133887.000000</td>\n",
       "      <td>133886.000000</td>\n",
       "      <td>...</td>\n",
       "      <td>0.0</td>\n",
       "      <td>0.0</td>\n",
       "      <td>0.0</td>\n",
       "      <td>0.0</td>\n",
       "      <td>0.0</td>\n",
       "      <td>0.0</td>\n",
       "      <td>0.0</td>\n",
       "      <td>0.0</td>\n",
       "      <td>0.0</td>\n",
       "      <td>0.0</td>\n",
       "    </tr>\n",
       "    <tr>\n",
       "      <th>mean</th>\n",
       "      <td>NaN</td>\n",
       "      <td>15589.394041</td>\n",
       "      <td>15589.394041</td>\n",
       "      <td>15581.984023</td>\n",
       "      <td>460.870707</td>\n",
       "      <td>8.046397e+04</td>\n",
       "      <td>NaN</td>\n",
       "      <td>20.870784</td>\n",
       "      <td>0.343476</td>\n",
       "      <td>0.576498</td>\n",
       "      <td>...</td>\n",
       "      <td>NaN</td>\n",
       "      <td>NaN</td>\n",
       "      <td>NaN</td>\n",
       "      <td>NaN</td>\n",
       "      <td>NaN</td>\n",
       "      <td>NaN</td>\n",
       "      <td>NaN</td>\n",
       "      <td>NaN</td>\n",
       "      <td>NaN</td>\n",
       "      <td>NaN</td>\n",
       "    </tr>\n",
       "    <tr>\n",
       "      <th>std</th>\n",
       "      <td>NaN</td>\n",
       "      <td>8858.198349</td>\n",
       "      <td>8858.198349</td>\n",
       "      <td>8856.454888</td>\n",
       "      <td>261.616439</td>\n",
       "      <td>7.808478e+04</td>\n",
       "      <td>NaN</td>\n",
       "      <td>115.252571</td>\n",
       "      <td>0.908581</td>\n",
       "      <td>0.878987</td>\n",
       "      <td>...</td>\n",
       "      <td>NaN</td>\n",
       "      <td>NaN</td>\n",
       "      <td>NaN</td>\n",
       "      <td>NaN</td>\n",
       "      <td>NaN</td>\n",
       "      <td>NaN</td>\n",
       "      <td>NaN</td>\n",
       "      <td>NaN</td>\n",
       "      <td>NaN</td>\n",
       "      <td>NaN</td>\n",
       "    </tr>\n",
       "    <tr>\n",
       "      <th>min</th>\n",
       "      <td>NaN</td>\n",
       "      <td>1000.000000</td>\n",
       "      <td>1000.000000</td>\n",
       "      <td>775.000000</td>\n",
       "      <td>30.120000</td>\n",
       "      <td>0.000000e+00</td>\n",
       "      <td>NaN</td>\n",
       "      <td>-1.000000</td>\n",
       "      <td>0.000000</td>\n",
       "      <td>0.000000</td>\n",
       "      <td>...</td>\n",
       "      <td>NaN</td>\n",
       "      <td>NaN</td>\n",
       "      <td>NaN</td>\n",
       "      <td>NaN</td>\n",
       "      <td>NaN</td>\n",
       "      <td>NaN</td>\n",
       "      <td>NaN</td>\n",
       "      <td>NaN</td>\n",
       "      <td>NaN</td>\n",
       "      <td>NaN</td>\n",
       "    </tr>\n",
       "    <tr>\n",
       "      <th>25%</th>\n",
       "      <td>NaN</td>\n",
       "      <td>8400.000000</td>\n",
       "      <td>8400.000000</td>\n",
       "      <td>8400.000000</td>\n",
       "      <td>265.680000</td>\n",
       "      <td>4.950000e+04</td>\n",
       "      <td>NaN</td>\n",
       "      <td>12.640000</td>\n",
       "      <td>0.000000</td>\n",
       "      <td>0.000000</td>\n",
       "      <td>...</td>\n",
       "      <td>NaN</td>\n",
       "      <td>NaN</td>\n",
       "      <td>NaN</td>\n",
       "      <td>NaN</td>\n",
       "      <td>NaN</td>\n",
       "      <td>NaN</td>\n",
       "      <td>NaN</td>\n",
       "      <td>NaN</td>\n",
       "      <td>NaN</td>\n",
       "      <td>NaN</td>\n",
       "    </tr>\n",
       "    <tr>\n",
       "      <th>50%</th>\n",
       "      <td>NaN</td>\n",
       "      <td>14400.000000</td>\n",
       "      <td>14400.000000</td>\n",
       "      <td>14400.000000</td>\n",
       "      <td>398.520000</td>\n",
       "      <td>6.800000e+04</td>\n",
       "      <td>NaN</td>\n",
       "      <td>18.760000</td>\n",
       "      <td>0.000000</td>\n",
       "      <td>0.000000</td>\n",
       "      <td>...</td>\n",
       "      <td>NaN</td>\n",
       "      <td>NaN</td>\n",
       "      <td>NaN</td>\n",
       "      <td>NaN</td>\n",
       "      <td>NaN</td>\n",
       "      <td>NaN</td>\n",
       "      <td>NaN</td>\n",
       "      <td>NaN</td>\n",
       "      <td>NaN</td>\n",
       "      <td>NaN</td>\n",
       "    </tr>\n",
       "    <tr>\n",
       "      <th>75%</th>\n",
       "      <td>NaN</td>\n",
       "      <td>21000.000000</td>\n",
       "      <td>21000.000000</td>\n",
       "      <td>21000.000000</td>\n",
       "      <td>613.910000</td>\n",
       "      <td>9.500800e+04</td>\n",
       "      <td>NaN</td>\n",
       "      <td>25.770000</td>\n",
       "      <td>0.000000</td>\n",
       "      <td>1.000000</td>\n",
       "      <td>...</td>\n",
       "      <td>NaN</td>\n",
       "      <td>NaN</td>\n",
       "      <td>NaN</td>\n",
       "      <td>NaN</td>\n",
       "      <td>NaN</td>\n",
       "      <td>NaN</td>\n",
       "      <td>NaN</td>\n",
       "      <td>NaN</td>\n",
       "      <td>NaN</td>\n",
       "      <td>NaN</td>\n",
       "    </tr>\n",
       "    <tr>\n",
       "      <th>max</th>\n",
       "      <td>NaN</td>\n",
       "      <td>40000.000000</td>\n",
       "      <td>40000.000000</td>\n",
       "      <td>40000.000000</td>\n",
       "      <td>1536.950000</td>\n",
       "      <td>9.550000e+06</td>\n",
       "      <td>NaN</td>\n",
       "      <td>9999.000000</td>\n",
       "      <td>22.000000</td>\n",
       "      <td>5.000000</td>\n",
       "      <td>...</td>\n",
       "      <td>NaN</td>\n",
       "      <td>NaN</td>\n",
       "      <td>NaN</td>\n",
       "      <td>NaN</td>\n",
       "      <td>NaN</td>\n",
       "      <td>NaN</td>\n",
       "      <td>NaN</td>\n",
       "      <td>NaN</td>\n",
       "      <td>NaN</td>\n",
       "      <td>NaN</td>\n",
       "    </tr>\n",
       "  </tbody>\n",
       "</table>\n",
       "<p>8 rows × 97 columns</p>\n",
       "</div>"
      ],
      "text/plain": [
       "       member_id      loan_amnt    funded_amnt  funded_amnt_inv  \\\n",
       "count        0.0  133887.000000  133887.000000    133887.000000   \n",
       "mean         NaN   15589.394041   15589.394041     15581.984023   \n",
       "std          NaN    8858.198349    8858.198349      8856.454888   \n",
       "min          NaN    1000.000000    1000.000000       775.000000   \n",
       "25%          NaN    8400.000000    8400.000000      8400.000000   \n",
       "50%          NaN   14400.000000   14400.000000     14400.000000   \n",
       "75%          NaN   21000.000000   21000.000000     21000.000000   \n",
       "max          NaN   40000.000000   40000.000000     40000.000000   \n",
       "\n",
       "         installment    annual_inc  url            dti    delinq_2yrs  \\\n",
       "count  133887.000000  1.338870e+05  0.0  133887.000000  133887.000000   \n",
       "mean      460.870707  8.046397e+04  NaN      20.870784       0.343476   \n",
       "std       261.616439  7.808478e+04  NaN     115.252571       0.908581   \n",
       "min        30.120000  0.000000e+00  NaN      -1.000000       0.000000   \n",
       "25%       265.680000  4.950000e+04  NaN      12.640000       0.000000   \n",
       "50%       398.520000  6.800000e+04  NaN      18.760000       0.000000   \n",
       "75%       613.910000  9.500800e+04  NaN      25.770000       0.000000   \n",
       "max      1536.950000  9.550000e+06  NaN    9999.000000      22.000000   \n",
       "\n",
       "       inq_last_6mths                 ...                   \\\n",
       "count   133886.000000                 ...                    \n",
       "mean         0.576498                 ...                    \n",
       "std          0.878987                 ...                    \n",
       "min          0.000000                 ...                    \n",
       "25%          0.000000                 ...                    \n",
       "50%          0.000000                 ...                    \n",
       "75%          1.000000                 ...                    \n",
       "max          5.000000                 ...                    \n",
       "\n",
       "       sec_app_earliest_cr_line  sec_app_inq_last_6mths  sec_app_mort_acc  \\\n",
       "count                       0.0                     0.0               0.0   \n",
       "mean                        NaN                     NaN               NaN   \n",
       "std                         NaN                     NaN               NaN   \n",
       "min                         NaN                     NaN               NaN   \n",
       "25%                         NaN                     NaN               NaN   \n",
       "50%                         NaN                     NaN               NaN   \n",
       "75%                         NaN                     NaN               NaN   \n",
       "max                         NaN                     NaN               NaN   \n",
       "\n",
       "       sec_app_open_acc  sec_app_revol_util  sec_app_open_il_6m  \\\n",
       "count               0.0                 0.0                 0.0   \n",
       "mean                NaN                 NaN                 NaN   \n",
       "std                 NaN                 NaN                 NaN   \n",
       "min                 NaN                 NaN                 NaN   \n",
       "25%                 NaN                 NaN                 NaN   \n",
       "50%                 NaN                 NaN                 NaN   \n",
       "75%                 NaN                 NaN                 NaN   \n",
       "max                 NaN                 NaN                 NaN   \n",
       "\n",
       "       sec_app_num_rev_accts  sec_app_chargeoff_within_12_mths  \\\n",
       "count                    0.0                               0.0   \n",
       "mean                     NaN                               NaN   \n",
       "std                      NaN                               NaN   \n",
       "min                      NaN                               NaN   \n",
       "25%                      NaN                               NaN   \n",
       "50%                      NaN                               NaN   \n",
       "75%                      NaN                               NaN   \n",
       "max                      NaN                               NaN   \n",
       "\n",
       "       sec_app_collections_12_mths_ex_med  sec_app_mths_since_last_major_derog  \n",
       "count                                 0.0                                  0.0  \n",
       "mean                                  NaN                                  NaN  \n",
       "std                                   NaN                                  NaN  \n",
       "min                                   NaN                                  NaN  \n",
       "25%                                   NaN                                  NaN  \n",
       "50%                                   NaN                                  NaN  \n",
       "75%                                   NaN                                  NaN  \n",
       "max                                   NaN                                  NaN  \n",
       "\n",
       "[8 rows x 97 columns]"
      ]
     },
     "execution_count": 9,
     "metadata": {},
     "output_type": "execute_result"
    }
   ],
   "source": [
    "df.describe()"
   ]
  },
  {
   "cell_type": "code",
   "execution_count": 14,
   "metadata": {},
   "outputs": [
    {
     "data": {
      "text/plain": [
       "['.DS_Store',\n",
       " 'LoanStats_2016Q3.csv',\n",
       " 'LoanStats_2016Q2.csv',\n",
       " 'LoanStats_2016Q1.csv']"
      ]
     },
     "execution_count": 14,
     "metadata": {},
     "output_type": "execute_result"
    }
   ],
   "source": [
    "files = os.listdir(settings.DATA_DIR)\n",
    "files"
   ]
  },
  {
   "cell_type": "code",
   "execution_count": 15,
   "metadata": {
    "collapsed": true
   },
   "outputs": [],
   "source": [
    "files = []\n",
    "\n",
    "for item in os.listdir(settings.DATA_DIR):\n",
    "    if item.endswith(\".csv\"):\n",
    "        files.append(item)"
   ]
  },
  {
   "cell_type": "code",
   "execution_count": 17,
   "metadata": {},
   "outputs": [
    {
     "data": {
      "text/plain": [
       "['LoanStats_2016Q3.csv', 'LoanStats_2016Q2.csv', 'LoanStats_2016Q1.csv']"
      ]
     },
     "execution_count": 17,
     "metadata": {},
     "output_type": "execute_result"
    }
   ],
   "source": [
    "files"
   ]
  },
  {
   "cell_type": "code",
   "execution_count": 96,
   "metadata": {
    "collapsed": true
   },
   "outputs": [],
   "source": [
    "SELECT = [\n",
    "\"loan_amnt\",\n",
    "\"term\",\n",
    "\"int_rate\",\n",
    "\"installment\",\n",
    "\"grade\",\n",
    "\"sub_grade\",\n",
    "\"emp_title\",\n",
    "\"emp_length\",\n",
    "\"home_ownership\",\n",
    "\"annual_inc\",\n",
    "\"verification_status\",\n",
    "\"issue_d\",\n",
    "\"loan_status\",\n",
    "\"purpose\",\n",
    "\"addr_state\",\n",
    "\"dti\",\n",
    "\"earliest_cr_line\",\n",
    "\"open_acc\",\n",
    "\"pub_rec\",\n",
    "\"revol_util\",\n",
    "\"total_acc\",\n",
    "\"initial_list_status\",\n",
    "\"application_type\"\n",
    "]\n",
    "\n",
    "dt = {\n",
    "\"loan_amnt\": float,\n",
    "\"term\": object,\n",
    "\"int_rate\": object,\n",
    "\"installment\": float,\n",
    "\"grade\": object,\n",
    "\"sub_grade\": object,\n",
    "\"emp_title\": object,\n",
    "\"emp_length\": object,\n",
    "\"home_ownership\": object,\n",
    "\"annual_inc\": float,\n",
    "\"verification_status\": object,\n",
    "\"issue_d\": object,\n",
    "\"loan_status\": object,\n",
    "\"purpose\": object,\n",
    "\"addr_state\": object,\n",
    "\"dti\": float,\n",
    "\"earliest_cr_line\": object,\n",
    "\"open_acc\": float,\n",
    "\"pub_rec\": float,\n",
    "\"revol_util\": object,\n",
    "\"total_acc\": float,\n",
    "\"initial_list_status\": object,\n",
    "\"application_type\": object\n",
    "}"
   ]
  },
  {
   "cell_type": "code",
   "execution_count": 85,
   "metadata": {
    "collapsed": true
   },
   "outputs": [],
   "source": [
    "def conv(val):\n",
    "    if val == '':\n",
    "        return 0 # or whatever else you want to represent your NaN with\n",
    "    return val"
   ]
  },
  {
   "cell_type": "code",
   "execution_count": 124,
   "metadata": {},
   "outputs": [],
   "source": [
    "df = pd.read_csv(\"data/LoanStats_2016Q2.csv\", header = 1, usecols= SELECT, dtype=dt, na_values = [\"\"] )\n",
    "df.drop(df.tail(3).index, inplace = True)"
   ]
  },
  {
   "cell_type": "code",
   "execution_count": 125,
   "metadata": {
    "scrolled": false
   },
   "outputs": [
    {
     "data": {
      "text/plain": [
       "Current               76929\n",
       "Fully Paid            13469\n",
       "Charged Off            3779\n",
       "Late (31-120 days)     2178\n",
       "In Grace Period         896\n",
       "Late (16-30 days)       598\n",
       "Default                   4\n",
       "Name: loan_status, dtype: int64"
      ]
     },
     "execution_count": 125,
     "metadata": {},
     "output_type": "execute_result"
    }
   ],
   "source": [
    "df.loan_status.value_counts()"
   ]
  },
  {
   "cell_type": "code",
   "execution_count": 121,
   "metadata": {},
   "outputs": [
    {
     "data": {
      "text/plain": [
       "array(['Current', 'Fully Paid', 'Late (31-120 days)', 'Charged Off',\n",
       "       'In Grace Period', 'Late (16-30 days)', 'Default'], dtype=object)"
      ]
     },
     "execution_count": 121,
     "metadata": {},
     "output_type": "execute_result"
    }
   ],
   "source": [
    "df.loan_status.unique()"
   ]
  },
  {
   "cell_type": "code",
   "execution_count": 135,
   "metadata": {},
   "outputs": [],
   "source": [
    "df = pd.read_csv(\"processed/alldata.csv\", header = 0)"
   ]
  },
  {
   "cell_type": "code",
   "execution_count": 136,
   "metadata": {},
   "outputs": [
    {
     "data": {
      "text/plain": [
       "(330856, 23)"
      ]
     },
     "execution_count": 136,
     "metadata": {},
     "output_type": "execute_result"
    }
   ],
   "source": [
    "df."
   ]
  },
  {
   "cell_type": "code",
   "execution_count": null,
   "metadata": {
    "collapsed": true
   },
   "outputs": [],
   "source": []
  }
 ],
 "metadata": {
  "kernelspec": {
   "display_name": "Python 3",
   "language": "python",
   "name": "python3"
  },
  "language_info": {
   "codemirror_mode": {
    "name": "ipython",
    "version": 3
   },
   "file_extension": ".py",
   "mimetype": "text/x-python",
   "name": "python",
   "nbconvert_exporter": "python",
   "pygments_lexer": "ipython3",
   "version": "3.6.1"
  }
 },
 "nbformat": 4,
 "nbformat_minor": 2
}
