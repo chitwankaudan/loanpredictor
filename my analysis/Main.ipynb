{
 "cells": [
  {
   "cell_type": "markdown",
   "metadata": {},
   "source": [
    "# Predicting Lending Club Loan Statuses\n",
    "\n",
    "Author: Chitwan Kaudan"
   ]
  },
  {
   "cell_type": "code",
   "execution_count": 29,
   "metadata": {
    "collapsed": true
   },
   "outputs": [],
   "source": [
    "import os\n",
    "import datetime\n",
    "import pandas as pd\n",
    "import numpy as np\n",
    "\n",
    "# Plotting preferences\n",
    "%matplotlib inline\n",
    "%config InlineBackend.figure_format = 'retina'\n",
    "import matplotlib.pyplot as plt\n",
    "import matplotlib.mlab as mlab\n",
    "import seaborn as sns"
   ]
  },
  {
   "cell_type": "markdown",
   "metadata": {},
   "source": [
    "## Abstract\n",
    "\n",
    "Lenders know that not everyone they loan money to will pay them back in full. That's why before you can recieve a loan banks look at your credit score, your credit history, outstanding balances, income, etc. to determine what type of risk you pose to the bank. In the past, we've seen that when these thresholds are relaxed too much, defaults skyrocket sometimes with disastrous implications on the economy (i.e. housing market crash & '08 crisis). So we know these thresholds banks impose help weed out bad risk. \n",
    "\n",
    "But what about loans that pass all the thresholds? Of these loans, can we predict which loans will default and which won't? Is it true that lenders closer to the threshold cut offs tend default more often? With what accuracy can we make these predictions? Which metrics are the most important our predictions?\n"
   ]
  },
  {
   "cell_type": "markdown",
   "metadata": {},
   "source": [
    "## Exploratory Data Analysis\n",
    "\n",
    "### Introducing LC Dataset \n",
    "We'll be using Lending Club's public loan [datasets](https://www.lendingclub.com/info/download-data.action) in our analysis. As of 1/7/18, LC has loan data availible from 2007 to Q3 2017 and posts new data in increments of quarters. Each row represents a loan issued within the time period listed in the file name. All loans are either 3 year or 5 year loans. Each loan has 60+ variables- brief explainations of all variables can be found in a supplementary csv on the same page. Note that not all variables are publically availible. Things like fico score nad other variables require a LC membership. Since I want this project to be reproducible by anyone, our analysis will be limited to the data that is 100% publically availible. \n",
    "\n",
    "### Minimum Tracking Quarters & Variable Selection\n",
    "\n",
    "Although LC provide 60+ variables for each loan, we don't want to use all variables for the following 3 reasons: \n",
    "\n",
    "1. **Sparse data**: many variables are extremely sparse. Not all variables apply to each loan or certain data is be omited by LC. Whatever the reason, sparse data can bias our analysis even with datasets are large as ours. You can read Dr. Greenland's [paper](http://www.bmj.com/content/352/bmj.i1981) if you'd like to learn more about sparse data biases on multivariable analysis. \n",
    "2. **Multicollinearity**: many variables within the dataset are obviously collinear (i.e. grade and subgrade). Collinearilty will surely inflate the standard errors of our variables and may underestimate the significance of our independent variables in our regression. \n",
    "3. **Lack of hueristic logic**: our goal with this project is to create a model that can use data a borrower provides upon recieveing the loan to predict whether he will pay it off. Many variables such as current balance on the loan and # of late payments are not variables that would be availible upon loan issuance. Our job isn't to achieve the best possible accuracy rate- our job is to achieve the best accruacy within our framework of our original scientific question. \n",
    "\n",
    "For the above reasons, we'll only selecting certain variables to be a part of our analysis. You of course may disagree with the selections I've made. Please feel free to modify the code to test any theories you may have. I understand my analysis is limited, that's why I've made the project easy to reproduce and modfiy!\n",
    "\n",
    "I've selected *loan_status* to be my target or dependent variable. For all dataset except 2007-2011, *loan_status* is a categorical variable with the following levels. "
   ]
  },
  {
   "cell_type": "code",
   "execution_count": 6,
   "metadata": {},
   "outputs": [
    {
     "data": {
      "text/plain": [
       "Fully Paid            520559\n",
       "Current               490420\n",
       "Charged Off           135460\n",
       "Late (31-120 days)     16685\n",
       "In Grace Period         9039\n",
       "Late (16-30 days)       3550\n",
       "Default                   42\n",
       "Name: loan_status, dtype: int64"
      ]
     },
     "execution_count": 6,
     "metadata": {},
     "output_type": "execute_result"
    }
   ],
   "source": [
    "assembled = pd.read_pickle(\"processed/assembled.pkl\")\n",
    "assembled['loan_status'].value_counts()"
   ]
  },
  {
   "cell_type": "markdown",
   "metadata": {},
   "source": [
    "So a loan can either fully paid off or current which means all payments are up to date. Otherwise the loan can be in grace period which is typically a 15 day period after the payment due date in which you can submit your payment with no late fee charges. After the grace period is over, that the loan will become Late (16-30 days), Late (31-120 days) and eventually Defaulted if no payment is made. After an additional 30 days, the loan will become Charged Off meaning the lender no longer expects the borrower to make any more payments towards the loan.\n",
    "\n",
    "My first thought was use a basic classification tree (analogously one-way ANOVA) to \"classify\" these loans into the 5 loan status categories. Immediately 2 problems arose. First, if I fed the algorithim all the variables it would simply decide to split on variables with the highest predictive power (i.e. current balance) disregarding our hueristic mission with this analysis (see point 3 above). I could preselect variables that meet our explanatory criteria and only run the greedy algo on this subset. The second issue is a bit tougher to solve. Loan categories proportions did not remain steady over time. There was virtually no current loans in the older datasets and whereas the newer datasetst (circa 2016) had nearly 90% current loans. Hueristially, this makes perfect sense. It's a lot easier to stay current on your payments if your loan is a only a couple months old. This natural phenomenon is a problem for us because if weare trying build a model using old loan data and predict status for new loan data, our predictions would be very off. \n",
    "\n",
    "So maybe the porportion of current loans doesn't remain steady across datasets, but the proportion of loans \"in good standing\" (fully paid or current) do. The thought behind this is that ***most*** loans simply go from current to full paid off as time goes on. This of course is not true 100% of the time- again it's a lot easier to be \"in good standing\" during the first few months of your loan than it is to be 2-3 years into it. So we will need to find impose some \"minimum tracked quarters\" and throw out loans that are too young. Let's take a look at the \"in good standing\" proportions across the availible datasets to determine this threshold."
   ]
  },
  {
   "cell_type": "code",
   "execution_count": 54,
   "metadata": {
    "collapsed": true
   },
   "outputs": [],
   "source": [
    "rawdat = ['12-13', '14', '15', '16Q1', '16Q2', '16Q3', '16Q4', '17Q1', '17Q2']"
   ]
  },
  {
   "cell_type": "code",
   "execution_count": 55,
   "metadata": {
    "collapsed": true,
    "scrolled": false
   },
   "outputs": [],
   "source": [
    "good_standing = []\n",
    "for date in rawdat:\n",
    "    data = pd.read_pickle('data/'+date+'raw.pkl')\n",
    "    good_perc = ((data.loan_status.value_counts())[\"Fully Paid\"] \n",
    "                 + (data.loan_status.value_counts())[\"Current\"]) / data.loan_status.count()\n",
    "    good_standing.append(good_perc)"
   ]
  },
  {
   "cell_type": "code",
   "execution_count": 57,
   "metadata": {},
   "outputs": [
    {
     "data": {
      "image/png": "[encoded data removed]",
      "text/plain": [
       "<matplotlib.figure.Figure at 0x108a96da0>"
      ]
     },
     "metadata": {
      "image/png": {
       "height": 337,
       "width": 889
      }
     },
     "output_type": "display_data"
    }
   ],
   "source": [
    "# Setting the positions and width for the bars\n",
    "pos = list(range(len(rawdat))) \n",
    "width = 0.3\n",
    "\n",
    "# Plotting the bars\n",
    "fig, ax = plt.subplots(figsize=(15,5))\n",
    "\n",
    "# Create a bar with pre_score data,\n",
    "# in position pos,\n",
    "plt.bar(pos, good_standing, \n",
    "        width, alpha=0.5, color='r') \n",
    "\n",
    "# Set the y axis label\n",
    "ax.set_ylabel('Percent of Loans in Good Standing')\n",
    "\n",
    "# Set the chart's title\n",
    "ax.set_title('%Good Standing Loans')\n",
    "\n",
    "# Set the position of the x ticks\n",
    "ax.set_xticks(pos)\n",
    "plt.xticks(rotation = 'vertical')\n",
    "\n",
    "# Set the labels for the x ticks\n",
    "ax.set_xticklabels(rawdat)\n",
    "\n",
    "plt.show()"
   ]
  },
  {
   "cell_type": "markdown",
   "metadata": {},
   "source": [
    "My theory seems to be right. Percent of loans in good standing does seem to remain relatively stable and you can also see the upwards trend as you get younger loans. It doesn't seem obvious where we should make the cut off. In my analysis, I chose 5 minumum tracking quarters, so the cut off for me was Q3 2016. My analysis uses data from 2012-Q3 2016. You can  the minumum trackng quarters in settings.py if you wish."
   ]
  },
  {
   "attachments": {},
   "cell_type": "markdown",
   "metadata": {},
   "source": [
    "Having selected the minimum tracking quarters then chose the list of variables I thought would be availible to banks at loan issuance. The variables are the following:\n",
    "\n",
    "- loan_amnt: loan amount issued\n",
    "- term: 3 or 5 year loan\n",
    "- int_rate: interest rate on the loan\n",
    "- installment: monthly payment owed by the borrower\n",
    "- sub_grade: LC assigned loan subgrade\n",
    "- emp_length: how long borrower has been employeed\n",
    "- home_ownership: whether or not borrower is a homeowner\n",
    "- annual_inc: annual income of borrower\n",
    "- verification_status: indicates if income was verified by LC, not verified, or if the income source was verified\n",
    "- issue_d: date of issuance\n",
    "- purpose: a category selected by borrower upon loan request\n",
    "- addr_state: state in which borrower resides\n",
    "- dti: a ratio calculated using the borrower’s total monthly debt payments on the total debt obligations, excluding mortgage and the requested LC loan, divided by the borrower’s self-reported monthly income\n",
    "- earliest_cr_line: time of borrow's first credit line\n",
    "- open_acc: # of open account under borrower's name\n",
    "- pub_rec: # of derogatory public record \n",
    "- revol_util: total credit revolving balance\n",
    "- initial_list_status: the initial listing status of the loan. Possible values are – W, F\n",
    "- application_type: indicates whether the loan is an individual application or a joint application with two co-borrowers\n",
    "- tot_cur_bal: total current balance on all accounts\n",
    "- tot_hi_cred_lim: total high credit/credit limit\n",
    "\n",
    "Again these are variables I thought would affects the likelihood a loan is paid back. You may disaggree. Please fee free to change the selected variables in assemble.py. (Don't forget to specify dtype right underneath!)\n"
   ]
  },
  {
   "cell_type": "markdown",
   "metadata": {},
   "source": [
    "## Results"
   ]
  },
  {
   "cell_type": "markdown",
   "metadata": {},
   "source": [
    "Essentially, I chose to split the data into 3 folds. Using the above variables in my model, I trained a model of 2 folds of the data and make a prediction on the 3rd fold. I then used cross validation accuracy score, # of false positives, and # of false negatives to evaluate how good of a model I created.\n",
    "\n",
    "If you'd like you can change the number of folds in settings.py. I found more folds doesn't have much of an impact on model performance. Below are the resutls from my trial:"
   ]
  },
  {
   "cell_type": "code",
   "execution_count": 60,
   "metadata": {},
   "outputs": [
    {
     "name": "stdout",
     "output_type": "stream",
     "text": [
      "Accuracy Score: 0.6467770212835519\r\n",
      "False Negatives: 0.3454641095095289\r\n",
      "False Positives: 0.39547903521136035\r\n"
     ]
    }
   ],
   "source": [
    "%cat results.txt"
   ]
  },
  {
   "cell_type": "markdown",
   "metadata": {},
   "source": [
    "Overall, my model has an approximately 65% accuracy rate which is not a bad start. Crossvalidation is of course random so these numbers fluctuate with every trial, but I found the accuracy scores remain within a 0.02+/- of the above numbers.\n",
    "\n",
    "The false positive rate is nearly 40% which quite high. Its possible to improve the model using different variables. Feel free to experiment with different combinations of variables. These were the best accuracy scores I could achieve. \n",
    "\n",
    "I believe the non-public LC like fico score and credit score would also be a important variable to improve the model."
   ]
  }
 ],
 "metadata": {
  "kernelspec": {
   "display_name": "Python 3",
   "language": "python",
   "name": "python3"
  },
  "language_info": {
   "codemirror_mode": {
    "name": "ipython",
    "version": 3
   },
   "file_extension": ".py",
   "mimetype": "text/x-python",
   "name": "python",
   "nbconvert_exporter": "python",
   "pygments_lexer": "ipython3",
   "version": "3.6.1"
  }
 },
 "nbformat": 4,
 "nbformat_minor": 2
}
